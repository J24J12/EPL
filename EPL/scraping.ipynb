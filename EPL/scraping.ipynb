{
 "cells": [
  {
   "cell_type": "code",
   "execution_count": 3,
   "metadata": {},
   "outputs": [
    {
     "name": "stdout",
     "output_type": "stream",
     "text": [
      "Requirement already satisfied: pandas in c:\\users\\mrjer\\appdata\\local\\packages\\pythonsoftwarefoundation.python.3.11_qbz5n2kfra8p0\\localcache\\local-packages\\python311\\site-packages (2.1.1)\n",
      "Requirement already satisfied: numpy>=1.23.2 in c:\\users\\mrjer\\appdata\\local\\packages\\pythonsoftwarefoundation.python.3.11_qbz5n2kfra8p0\\localcache\\local-packages\\python311\\site-packages (from pandas) (1.26.1)\n",
      "Requirement already satisfied: python-dateutil>=2.8.2 in c:\\users\\mrjer\\appdata\\local\\packages\\pythonsoftwarefoundation.python.3.11_qbz5n2kfra8p0\\localcache\\local-packages\\python311\\site-packages (from pandas) (2.8.2)\n",
      "Requirement already satisfied: pytz>=2020.1 in c:\\users\\mrjer\\appdata\\local\\packages\\pythonsoftwarefoundation.python.3.11_qbz5n2kfra8p0\\localcache\\local-packages\\python311\\site-packages (from pandas) (2023.3.post1)\n",
      "Requirement already satisfied: tzdata>=2022.1 in c:\\users\\mrjer\\appdata\\local\\packages\\pythonsoftwarefoundation.python.3.11_qbz5n2kfra8p0\\localcache\\local-packages\\python311\\site-packages (from pandas) (2023.3)\n",
      "Requirement already satisfied: six>=1.5 in c:\\users\\mrjer\\appdata\\local\\packages\\pythonsoftwarefoundation.python.3.11_qbz5n2kfra8p0\\localcache\\local-packages\\python311\\site-packages (from python-dateutil>=2.8.2->pandas) (1.16.0)\n",
      "Requirement already satisfied: lxml in c:\\users\\mrjer\\appdata\\local\\packages\\pythonsoftwarefoundation.python.3.11_qbz5n2kfra8p0\\localcache\\local-packages\\python311\\site-packages (4.9.4)\n",
      "Requirement already satisfied: html5lib in c:\\users\\mrjer\\appdata\\local\\packages\\pythonsoftwarefoundation.python.3.11_qbz5n2kfra8p0\\localcache\\local-packages\\python311\\site-packages (1.1)\n",
      "Requirement already satisfied: six>=1.9 in c:\\users\\mrjer\\appdata\\local\\packages\\pythonsoftwarefoundation.python.3.11_qbz5n2kfra8p0\\localcache\\local-packages\\python311\\site-packages (from html5lib) (1.16.0)\n",
      "Requirement already satisfied: webencodings in c:\\users\\mrjer\\appdata\\local\\packages\\pythonsoftwarefoundation.python.3.11_qbz5n2kfra8p0\\localcache\\local-packages\\python311\\site-packages (from html5lib) (0.5.1)\n",
      "Requirement already satisfied: beautifulsoup4 in c:\\users\\mrjer\\appdata\\local\\packages\\pythonsoftwarefoundation.python.3.11_qbz5n2kfra8p0\\localcache\\local-packages\\python311\\site-packages (4.12.2)\n",
      "Requirement already satisfied: soupsieve>1.2 in c:\\users\\mrjer\\appdata\\local\\packages\\pythonsoftwarefoundation.python.3.11_qbz5n2kfra8p0\\localcache\\local-packages\\python311\\site-packages (from beautifulsoup4) (2.5)\n"
     ]
    }
   ],
   "source": [
    "!pip install pandas\n",
    "!pip install lxml\n",
    "!pip install html5lib\n",
    "!pip install beautifulsoup4"
   ]
  },
  {
   "cell_type": "code",
   "execution_count": 22,
   "metadata": {},
   "outputs": [],
   "source": [
    "import pandas as pd\n",
    "from bs4 import BeautifulSoup, NavigableString\n",
    "import requests\n",
    "from datetime import datetime"
   ]
  },
  {
   "cell_type": "code",
   "execution_count": 3,
   "metadata": {},
   "outputs": [],
   "source": [
    "tables = pd.read_html('https://www.premierleague.com/tables')"
   ]
  },
  {
   "cell_type": "code",
   "execution_count": 4,
   "metadata": {},
   "outputs": [],
   "source": [
    "first_team = tables[0].iloc[0::2]\n",
    "first_team.pop('Form'), first_team.pop('Unnamed: 12'), first_team.pop('Next')\n",
    "first_team.to_csv('epl_table.csv', index=False)"
   ]
  },
  {
   "cell_type": "code",
   "execution_count": 5,
   "metadata": {},
   "outputs": [],
   "source": [
    "web = 'https://www.skysports.com/premier-league-results'\n",
    "response = requests.get(web)\n",
    "content = response.text\n",
    "soup = BeautifulSoup(content, 'lxml')\n",
    "\n",
    "matches = soup.find_all('div', class_='fixres__item')\n",
    "\n",
    "score = []\n",
    "home = []\n",
    "away = []\n",
    "\n",
    "for match in matches:\n",
    "    score.append(match.find('span', class_='matches__teamscores').get_text())\n",
    "    score_lst = [[int(num) for num in item.split() if num.isdigit()] for item in score]\n",
    "    home.append(match.find('span', class_='matches__item-col matches__participant matches__participant--side1').get_text())\n",
    "    home_lst = [item.strip() for item in home]\n",
    "    away.append(match.find('span', class_='matches__item-col matches__participant matches__participant--side2').get_text())\n",
    "    away_lst = [item.strip() for item in away]\n",
    "\n",
    "dict_epl = {'Home': home_lst, 'Score': score_lst, 'Away': away_lst}\n",
    "df_epl = pd.DataFrame(dict_epl)\n",
    "df_epl.to_csv('epl_results.csv', index=False)"
   ]
  },
  {
   "cell_type": "code",
   "execution_count": 24,
   "metadata": {},
   "outputs": [
    {
     "name": "stdout",
     "output_type": "stream",
     "text": [
      "                            date                     Home  \\\n",
      "0    Saturday 30th December 2023               Luton Town   \n",
      "1    Saturday 30th December 2023              Aston Villa   \n",
      "2    Saturday 30th December 2023           Crystal Palace   \n",
      "3    Saturday 30th December 2023          Manchester City   \n",
      "4    Saturday 30th December 2023  Wolverhampton Wanderers   \n",
      "..                           ...                      ...   \n",
      "186         Sunday 19th May 2024           Crystal Palace   \n",
      "187         Sunday 19th May 2024                Liverpool   \n",
      "188         Sunday 19th May 2024               Luton Town   \n",
      "189         Sunday 19th May 2024          Manchester City   \n",
      "190         Sunday 19th May 2024         Sheffield United   \n",
      "\n",
      "                        Away  \n",
      "0                    Chelsea  \n",
      "1                    Burnley  \n",
      "2                  Brentford  \n",
      "3           Sheffield United  \n",
      "4                    Everton  \n",
      "..                       ...  \n",
      "186              Aston Villa  \n",
      "187  Wolverhampton Wanderers  \n",
      "188                   Fulham  \n",
      "189          West Ham United  \n",
      "190        Tottenham Hotspur  \n",
      "\n",
      "[191 rows x 3 columns]\n"
     ]
    }
   ],
   "source": [
    "web = 'https://www.skysports.com/premier-league-fixtures'\n",
    "response = requests.get(web)\n",
    "content = response.text\n",
    "soup = BeautifulSoup(content, 'lxml')\n",
    "\n",
    "fixture_date = soup.find('div', class_='fixres__body')\n",
    "date_lst = []\n",
    "home = []\n",
    "away = []\n",
    "\n",
    "current_date = None\n",
    "for element in fixture_date:\n",
    "    if isinstance(element, NavigableString):\n",
    "        continue\n",
    "    if element.name == 'h4' and 'fixres__header2' in element.get('class', []):\n",
    "        current_date = element.text\n",
    "    elif element.name == 'div' and 'fixres__item' in element.get('class', []):\n",
    "        if current_date is not None:\n",
    "            date_lst.append(current_date)\n",
    "            home.append(element.find('span', class_='matches__item-col matches__participant matches__participant--side1').get_text().strip())\n",
    "            away.append(element.find('span', class_='matches__item-col matches__participant matches__participant--side2').get_text().strip())\n",
    "\n",
    "dict_fix = {'date': date_lst, 'Home': home, 'Away': away}\n",
    "df_fix = pd.DataFrame(dict_fix)\n",
    "\n",
    "current_year = datetime.now().year\n",
    "current_month = datetime.now().strftime('%B')\n",
    "first_half = [\"January\", \"February\", \"March\", \"April\", \"May\"]\n",
    "second_half = [\"June\", \"July\", \"August\", \"September\", \"October\", \"November\", \"December\"]\n",
    "\n",
    "def add_year(date_str):\n",
    "    day, date, month = date_str.split()\n",
    "    date = date.replace('st', '').replace('nd', '').replace('rd', '').replace('th', '')\n",
    "    if month in second_half and current_month in second_half:\n",
    "        return f\"{day}, {date} {month} {current_year}\"\n",
    "    elif month in first_half and current_month in first_half:\n",
    "        return f\"{day}, {date} {month} {current_year}\"\n",
    "    elif month in second_half and current_month in first_half:\n",
    "        return f\"{day}, {date} {month} {current_year - 1}\"\n",
    "    elif month in first_half and current_month in second_half:\n",
    "        return f\"{day}, {date} {month} {current_year + 1}\"\n",
    "    else:\n",
    "        return date_str\n",
    "    \n",
    "df_fix['date'] = df_fix['date'].apply(add_year)\n",
    "\n",
    "print(df_fix)\n"
   ]
  },
  {
   "cell_type": "code",
   "execution_count": 7,
   "metadata": {},
   "outputs": [],
   "source": [
    "df_fix.to_csv('epl_fixture.csv', index=False)"
   ]
  },
  {
   "cell_type": "code",
   "execution_count": null,
   "metadata": {},
   "outputs": [],
   "source": []
  }
 ],
 "metadata": {
  "kernelspec": {
   "display_name": "Python 3",
   "language": "python",
   "name": "python3"
  },
  "language_info": {
   "codemirror_mode": {
    "name": "ipython",
    "version": 3
   },
   "file_extension": ".py",
   "mimetype": "text/x-python",
   "name": "python",
   "nbconvert_exporter": "python",
   "pygments_lexer": "ipython3",
   "version": "3.11.7"
  }
 },
 "nbformat": 4,
 "nbformat_minor": 2
}
